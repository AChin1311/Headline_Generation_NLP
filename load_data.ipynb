{
 "cells": [
  {
   "cell_type": "markdown",
   "metadata": {},
   "source": [
    "Import statements"
   ]
  },
  {
   "cell_type": "code",
   "execution_count": 1,
   "metadata": {},
   "outputs": [],
   "source": [
    "#import statements\n",
    "import csv\n",
    "import pandas as pd\n",
    "import numpy as np\n",
    "import nltk\n",
    "from nltk.tokenize import PunktSentenceTokenizer\n",
    "import pickle\n",
    "from nltk.stem import *\n",
    "from nltk import word_tokenize\n",
    "from nltk.stem.porter import *\n",
    "from nltk.stem import WordNetLemmatizer\n",
    "import nltk.text"
   ]
  },
  {
   "cell_type": "code",
   "execution_count": 2,
   "metadata": {},
   "outputs": [],
   "source": [
    "# for python 2 only\n",
    "import sys  \n",
    "\n",
    "reload(sys)  \n",
    "sys.setdefaultencoding('utf8')"
   ]
  },
  {
   "cell_type": "markdown",
   "metadata": {},
   "source": [
    "Relative locations of datasets"
   ]
  },
  {
   "cell_type": "code",
   "execution_count": 3,
   "metadata": {},
   "outputs": [],
   "source": [
    "AP_NEWS_DIR = 'datasets/apnews'  \n",
    "ALL_NEWS_DIR = 'datasets/all-the-news' #https://www.kaggle.com/snapcrack/all-the-news/data"
   ]
  },
  {
   "cell_type": "markdown",
   "metadata": {},
   "source": [
    "Loading Punctuation for english language. You might need to dowload using nltk.download()"
   ]
  },
  {
   "cell_type": "code",
   "execution_count": 4,
   "metadata": {},
   "outputs": [],
   "source": [
    "english_sent_tokenizer = nltk.data.load('nltk:tokenizers/punkt/english.pickle')"
   ]
  },
  {
   "cell_type": "markdown",
   "metadata": {},
   "source": [
    "__Description__:<br>\n",
    "This method removes the location from the beginning of the news article.<br> \n",
    "__Input__ :<br>\n",
    "News Article Content<br> \n",
    "__Output__:<br>\n",
    "Article with location removed<br>\n",
    "__Example__:<br>\n",
    "Washington - President announces ...\" is changed to \"President announces ...\""
   ]
  },
  {
   "cell_type": "code",
   "execution_count": 5,
   "metadata": {},
   "outputs": [],
   "source": [
    "def remove_location_from_news(text):\n",
    "    ts = text.split('—')\n",
    "    if(len(ts[0])< 35):\n",
    "        #print(ts[0])\n",
    "        return '—'.join(ts[1:])\n",
    "    return text\n",
    "        "
   ]
  },
  {
   "cell_type": "markdown",
   "metadata": {},
   "source": [
    "__Description__:<br>\n",
    "This method splits the article into meaningful sentences, lemmatizes the words and removes puntuation from the input text.<br>\n",
    "__Input__ :<br>\n",
    ">text: News Article Content or title<br>\n",
    "use_lemmatizer: Whether to use lemmatizer or not<br>\n",
    "use_stemmer : Whether to use lemmatizer or not<br>\n",
    "interval: Number of rows(interval) to print status of processing\n",
    "\n",
    "__Output__:<br>\n",
    "Processed News Article Content or title<br>"
   ]
  },
  {
   "cell_type": "code",
   "execution_count": 6,
   "metadata": {},
   "outputs": [],
   "source": [
    "stemmer = PorterStemmer()\n",
    "lemmatizer = WordNetLemmatizer()\n",
    "def tokenize_text(text, use_lemmatizer = True, use_stemmer = False,interval=1000):\n",
    "    global error_count, run_count\n",
    "    text = remove_location_from_news(text)\n",
    "    run_count+=1\n",
    "    if(run_count%interval==1):\n",
    "        print(run_count)\n",
    "    try:\n",
    "        #print(text)\n",
    "        sent_l = english_sent_tokenizer.tokenize(text)\n",
    "        if(use_lemmatizer):\n",
    "            sent_l = [' '.join([w_al for w_al in [lemmatizer.lemmatize(w) for w in nltk.wordpunct_tokenize(sent)] if w_al.isalnum()]) for sent in sent_l]\n",
    "        if(use_stemmer):\n",
    "            sent_l = [' '.join([w_al for w_al in [stemmer.stem(w) for w in nltk.wordpunct_tokenize(sent)] if w_al.isalnum()]) for sent in sent_l]\n",
    "        #print(sent_l)\n",
    "        return sent_l\n",
    "    except Exception as e:\n",
    "        print(e)\n",
    "        print(\"Couldn't tokenize :\")\n",
    "        error_count+=1\n",
    "        #print((text))\n",
    "        return [text]"
   ]
  },
  {
   "cell_type": "markdown",
   "metadata": {},
   "source": [
    "__Description__:<br>\n",
    "This method is a wrapper that preprocesses the title and content of the news dataframe.<br> \n",
    "__Input__ :<br>\n",
    "News data frame with 'content' and 'title' columns<br> \n",
    "__Output__:<br>\n",
    "Processed News data frame with 'content' and 'title' columns<br>"
   ]
  },
  {
   "cell_type": "code",
   "execution_count": 7,
   "metadata": {},
   "outputs": [],
   "source": [
    "def parse_dataframe(df):\n",
    "    df['content']=df['content'].apply(lambda x : tokenize_text(x))\n",
    "    df['title']=df['title'].apply(lambda x : tokenize_text(x))\n",
    "    return df"
   ]
  },
  {
   "cell_type": "markdown",
   "metadata": {},
   "source": [
    "**Description:**<br>\n",
    "This method converts a dataframe into a pickle format<br>\n",
    "**Input:**<br>\n",
    "Dataframe<br>\n",
    "**Output:**<br>\n",
    "Dumped pickle file containing heads, desc, and keywords (not used when training)<br>"
   ]
  },
  {
   "cell_type": "code",
   "execution_count": 8,
   "metadata": {},
   "outputs": [],
   "source": [
    "def tuple2pickle(df):\n",
    "    heads, desc = [], []\n",
    "    for index, row in df.iterrows():\n",
    "        heads.extend(row['title'])\n",
    "        desc.extend(row['content'])\n",
    "    with open('pickles/all-the-news-2.pickle', 'wb') as f:\n",
    "        pickle.dump([heads, desc, None], f, pickle.HIGHEST_PROTOCOL)"
   ]
  },
  {
   "cell_type": "markdown",
   "metadata": {},
   "source": [
    "__Description__:<br>\n",
    "This method loads, cleans, preprocesses and returns the \"all the news\" dataset as a dataframe with 'content' and 'title' columns.<br> \n",
    "__Input__ :<br>\n",
    ">partial: Whether to load partial data or complete data<br>\n",
    "rows: Number of rows to be processed if partial is True\n",
    "\n",
    "__Output__:<br>\n",
    "Processed News data frame with 'content' and 'title' columns<br>"
   ]
  },
  {
   "cell_type": "code",
   "execution_count": 9,
   "metadata": {},
   "outputs": [],
   "source": [
    "error_count = 0\n",
    "run_count = 0 \n",
    "def get_all_news_df(partial= True,rows = 5000):\n",
    "    global error_count, run_count\n",
    "    error_count = 0\n",
    "    run_count = 0 \n",
    "    df = pd.read_csv(ALL_NEWS_DIR+'/articles1.csv')\n",
    "    df = df.append(pd.read_csv(ALL_NEWS_DIR+'/articles2.csv'))\n",
    "    df = df.append(pd.read_csv(ALL_NEWS_DIR+'/articles3.csv'))\n",
    "    df2 = df[['title','content']]\n",
    "    if(partial):\n",
    "        df3 = parse_dataframe(df2.head(rows))\n",
    "    else: \n",
    "        df3 = parse_dataframe(df2)\n",
    "    tuple2pickle(df3)\n",
    "    return df3"
   ]
  },
  {
   "cell_type": "code",
   "execution_count": 10,
   "metadata": {
    "scrolled": false
   },
   "outputs": [],
   "source": [
    "df3 = get_all_news_df()"
   ]
  },
  {
   "cell_type": "code",
   "execution_count": 11,
   "metadata": {},
   "outputs": [
    {
     "data": {
      "text/html": [
       "<div>\n",
       "<style scoped>\n",
       "    .dataframe tbody tr th:only-of-type {\n",
       "        vertical-align: middle;\n",
       "    }\n",
       "\n",
       "    .dataframe tbody tr th {\n",
       "        vertical-align: top;\n",
       "    }\n",
       "\n",
       "    .dataframe thead th {\n",
       "        text-align: right;\n",
       "    }\n",
       "</style>\n",
       "<table border=\"1\" class=\"dataframe\">\n",
       "  <thead>\n",
       "    <tr style=\"text-align: right;\">\n",
       "      <th></th>\n",
       "      <th>title</th>\n",
       "      <th>content</th>\n",
       "    </tr>\n",
       "  </thead>\n",
       "  <tbody>\n",
       "    <tr>\n",
       "      <th>0</th>\n",
       "      <td>[House Republicans Fret About Winning Their He...</td>\n",
       "      <td>[   Congressional Republicans have a new fear ...</td>\n",
       "    </tr>\n",
       "    <tr>\n",
       "      <th>1</th>\n",
       "      <td>[Rift Between Officers and Residents as Killin...</td>\n",
       "      <td>[After the bullet shells get counted, the bloo...</td>\n",
       "    </tr>\n",
       "    <tr>\n",
       "      <th>2</th>\n",
       "      <td>[Tyrus Wong, ‘Bambi’ Artist Thwarted by Racial...</td>\n",
       "      <td>[When Walt Disney’s “Bambi” opened in 1942, cr...</td>\n",
       "    </tr>\n",
       "    <tr>\n",
       "      <th>3</th>\n",
       "      <td>[Among Deaths in 2016, a Heavy Toll in Pop Mus...</td>\n",
       "      <td>[Death may be the great equalizer, but it isn’...</td>\n",
       "    </tr>\n",
       "    <tr>\n",
       "      <th>4</th>\n",
       "      <td>[Kim Jong-un Says North Korea Is Preparing to ...</td>\n",
       "      <td>[   North Korea’s leader, Kim   said on Sunday...</td>\n",
       "    </tr>\n",
       "  </tbody>\n",
       "</table>\n",
       "</div>"
      ],
      "text/plain": [
       "                                               title  \\\n",
       "0  [House Republicans Fret About Winning Their He...   \n",
       "1  [Rift Between Officers and Residents as Killin...   \n",
       "2  [Tyrus Wong, ‘Bambi’ Artist Thwarted by Racial...   \n",
       "3  [Among Deaths in 2016, a Heavy Toll in Pop Mus...   \n",
       "4  [Kim Jong-un Says North Korea Is Preparing to ...   \n",
       "\n",
       "                                             content  \n",
       "0  [   Congressional Republicans have a new fear ...  \n",
       "1  [After the bullet shells get counted, the bloo...  \n",
       "2  [When Walt Disney’s “Bambi” opened in 1942, cr...  \n",
       "3  [Death may be the great equalizer, but it isn’...  \n",
       "4  [   North Korea’s leader, Kim   said on Sunday...  "
      ]
     },
     "execution_count": 11,
     "metadata": {},
     "output_type": "execute_result"
    }
   ],
   "source": [
    "df3.head()"
   ]
  },
  {
   "cell_type": "code",
   "execution_count": null,
   "metadata": {},
   "outputs": [],
   "source": []
  }
 ],
 "metadata": {
  "kernelspec": {
   "display_name": "Python 2",
   "language": "python",
   "name": "python2"
  },
  "language_info": {
   "codemirror_mode": {
    "name": "ipython",
    "version": 2
   },
   "file_extension": ".py",
   "mimetype": "text/x-python",
   "name": "python",
   "nbconvert_exporter": "python",
   "pygments_lexer": "ipython2",
   "version": "2.7.14"
  }
 },
 "nbformat": 4,
 "nbformat_minor": 2
}
