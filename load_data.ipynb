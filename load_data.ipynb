{
 "cells": [
  {
   "cell_type": "markdown",
   "metadata": {},
   "source": [
    "Import statements"
   ]
  },
  {
   "cell_type": "code",
   "execution_count": 16,
   "metadata": {
    "collapsed": true
   },
   "outputs": [],
   "source": [
    "#import statements\n",
    "import csv\n",
    "import pandas as pd\n",
    "import numpy as np\n",
    "import nltk\n",
    "from nltk.tokenize import PunktSentenceTokenizer\n",
    "import pickle\n",
    "from nltk.stem import *\n",
    "from nltk import word_tokenize\n",
    "from nltk.stem.porter import *\n",
    "from nltk.stem import WordNetLemmatizer\n",
    "import nltk.text"
   ]
  },
  {
   "cell_type": "markdown",
   "metadata": {},
   "source": [
    "# Relative locations of datasets\n",
    "Give the number of rows (examples) wished to extract"
   ]
  },
  {
   "cell_type": "code",
   "execution_count": 17,
   "metadata": {
    "collapsed": true
   },
   "outputs": [],
   "source": [
    "AP_NEWS_DIR = 'datasets/apnews'  \n",
    "ALL_NEWS_DIR = '~/.kaggle/datasets/snapcrack/all-the-news' #https://www.kaggle.com/snapcrack/all-the-news/data\n",
    "NUM_ROWS_EXTRACT = 50000"
   ]
  },
  {
   "cell_type": "markdown",
   "metadata": {},
   "source": [
    "Loading Punctuation for english language. You might need to dowload using nltk.download()"
   ]
  },
  {
   "cell_type": "code",
   "execution_count": 18,
   "metadata": {
    "collapsed": false
   },
   "outputs": [],
   "source": [
    "english_sent_tokenizer = nltk.data.load('nltk:tokenizers/punkt/english.pickle')"
   ]
  },
  {
   "cell_type": "markdown",
   "metadata": {},
   "source": [
    "__Description__:<br>\n",
    "This method removes the location from the beginning of the news article.<br> \n",
    "__Input__ :<br>\n",
    "News Article Content<br> \n",
    "__Output__:<br>\n",
    "Article with location removed<br>\n",
    "__Example__:<br>\n",
    "Washington - President announces ...\" is changed to \"President announces ...\""
   ]
  },
  {
   "cell_type": "code",
   "execution_count": 19,
   "metadata": {
    "collapsed": true
   },
   "outputs": [],
   "source": [
    "def remove_location_from_news(text):\n",
    "    ts = text.split('—')\n",
    "    if(len(ts[0])< 35):\n",
    "        #print(ts[0])\n",
    "        return '—'.join(ts[1:])\n",
    "    return text\n",
    "        "
   ]
  },
  {
   "cell_type": "markdown",
   "metadata": {},
   "source": [
    "__Description__:<br>\n",
    "This method splits the article into meaningful sentences, lemmatizes the words and removes puntuation from the input text.<br>\n",
    "__Input__ :<br>\n",
    ">text: News Article Content or title<br>\n",
    "use_lemmatizer: Whether to use lemmatizer or not<br>\n",
    "use_stemmer : Whether to use lemmatizer or not<br>\n",
    "interval: Number of rows(interval) to print status of processing\n",
    "\n",
    "__Output__:<br>\n",
    "Processed News Article Content or title<br>"
   ]
  },
  {
   "cell_type": "code",
   "execution_count": 20,
   "metadata": {
    "collapsed": true
   },
   "outputs": [],
   "source": [
    "stemmer = PorterStemmer()\n",
    "lemmatizer = WordNetLemmatizer()\n",
    "def tokenize_text(text, use_lemmatizer = True, use_stemmer = False,interval=1000):\n",
    "    global error_count, run_count\n",
    "    text = remove_location_from_news(text)\n",
    "    run_count+=1\n",
    "    if(run_count%interval==1):\n",
    "        print(run_count)\n",
    "    try:\n",
    "        #print(text)\n",
    "        sent_l = english_sent_tokenizer.tokenize(text)\n",
    "        if(use_lemmatizer):\n",
    "            sent_l = [' '.join([w_al for w_al in [lemmatizer.lemmatize(w) for w in nltk.wordpunct_tokenize(sent)] if w_al.isalnum()]) for sent in sent_l]\n",
    "        if(use_stemmer):\n",
    "            sent_l = [' '.join([w_al for w_al in [stemmer.stem(w) for w in nltk.wordpunct_tokenize(sent)] if w_al.isalnum()]) for sent in sent_l]\n",
    "        #print(sent_l)\n",
    "        return sent_l\n",
    "    except Exception as e:\n",
    "        print(e)\n",
    "        print(\"Couldn't tokenize :\")\n",
    "        error_count+=1\n",
    "        #print((text))\n",
    "        return [text]"
   ]
  },
  {
   "cell_type": "markdown",
   "metadata": {},
   "source": [
    "__Description__:<br>\n",
    "This method is a wrapper that preprocesses the title and content of the news dataframe.<br> \n",
    "__Input__ :<br>\n",
    "News data frame with 'content' and 'title' columns<br> \n",
    "__Output__:<br>\n",
    "Processed News data frame with 'content' and 'title' columns<br>"
   ]
  },
  {
   "cell_type": "code",
   "execution_count": 21,
   "metadata": {
    "collapsed": true
   },
   "outputs": [],
   "source": [
    "def parse_dataframe(df):\n",
    "    df['content']=df['content'].apply(lambda x : tokenize_text(x))\n",
    "    df['title']=df['title'].apply(lambda x : tokenize_text(x))\n",
    "    return df"
   ]
  },
  {
   "cell_type": "markdown",
   "metadata": {},
   "source": [
    "**Description:**<br>\n",
    "This method converts a dataframe into a pickle format<br>\n",
    "**Input:**<br>\n",
    "Dataframe<br>\n",
    "**Output:**<br>\n",
    "Dumped pickle file containing heads, desc, and keywords (not used when training)<br>"
   ]
  },
  {
   "cell_type": "code",
   "execution_count": 22,
   "metadata": {
    "collapsed": true
   },
   "outputs": [],
   "source": [
    "def tuple2pickle(df,nr):\n",
    "    heads, desc = [], []\n",
    "    for index, row in df.iterrows():\n",
    "        if(len(row['title'])>=1):\n",
    "            heads.append(row['title'])\n",
    "            desc.append(row['content'])\n",
    "    with open('pickles/all-the-news_'+nr+'.pickle', 'wb') as f:\n",
    "        pickle.dump([heads, desc, None], f, pickle.HIGHEST_PROTOCOL)\n",
    "    print('Extracting rows into ', 'pickles/all-the-news_'+nr+'.pickle')"
   ]
  },
  {
   "cell_type": "markdown",
   "metadata": {},
   "source": [
    "__Description__:<br>\n",
    "This method loads, cleans, preprocesses and returns the \"all the news\" dataset as a dataframe with 'content' and 'title' columns.<br> \n",
    "__Input__ :<br>\n",
    ">partial: Whether to load partial data or complete data<br>\n",
    "rows: Number of rows to be processed if partial is True\n",
    "\n",
    "__Output__:<br>\n",
    "Processed News data frame with 'content' and 'title' columns<br>"
   ]
  },
  {
   "cell_type": "code",
   "execution_count": 23,
   "metadata": {
    "collapsed": true
   },
   "outputs": [],
   "source": [
    "error_count = 0\n",
    "run_count = 0 \n",
    "def get_all_news_df(partial= True,rows = 5000):\n",
    "    global error_count, run_count\n",
    "    error_count = 0\n",
    "    run_count = 0 \n",
    "    df = pd.read_csv(ALL_NEWS_DIR+'/articles1.csv')\n",
    "    df = df.append(pd.read_csv(ALL_NEWS_DIR+'/articles2.csv'))\n",
    "    df = df.append(pd.read_csv(ALL_NEWS_DIR+'/articles3.csv'))\n",
    "    df2 = df[['title','content']]\n",
    "    if(partial):\n",
    "        df3 = parse_dataframe(df2.head(rows))\n",
    "        tuple2pickle(df3,str(rows))\n",
    "    else: \n",
    "        df3 = parse_dataframe(df2)\n",
    "        tuple2pickle(df3,'all')\n",
    "    return df3"
   ]
  },
  {
   "cell_type": "code",
   "execution_count": 24,
   "metadata": {
    "collapsed": false,
    "scrolled": false
   },
   "outputs": [
    {
     "name": "stdout",
     "output_type": "stream",
     "text": [
      "1\n",
      "1001\n",
      "2001\n",
      "3001\n",
      "4001\n",
      "5001\n",
      "6001\n",
      "7001\n",
      "8001\n",
      "9001\n",
      "10001\n",
      "11001\n",
      "12001\n",
      "13001\n",
      "14001\n",
      "15001\n",
      "16001\n",
      "17001\n",
      "18001\n",
      "19001\n",
      "20001\n",
      "21001\n",
      "22001\n",
      "23001\n",
      "24001\n",
      "25001\n",
      "26001\n",
      "27001\n",
      "28001\n",
      "29001\n",
      "30001\n",
      "31001\n",
      "32001\n",
      "33001\n",
      "34001\n",
      "35001\n",
      "36001\n",
      "37001\n",
      "38001\n",
      "39001\n",
      "40001\n",
      "41001\n",
      "42001\n",
      "43001\n",
      "44001\n",
      "45001\n",
      "46001\n",
      "47001\n",
      "48001\n",
      "49001\n"
     ]
    },
    {
     "name": "stderr",
     "output_type": "stream",
     "text": [
      "/home/elin91793/anaconda3/lib/python3.5/site-packages/ipykernel/__main__.py:2: SettingWithCopyWarning: \n",
      "A value is trying to be set on a copy of a slice from a DataFrame.\n",
      "Try using .loc[row_indexer,col_indexer] = value instead\n",
      "\n",
      "See the caveats in the documentation: http://pandas.pydata.org/pandas-docs/stable/indexing.html#indexing-view-versus-copy\n",
      "  from ipykernel import kernelapp as app\n"
     ]
    },
    {
     "name": "stdout",
     "output_type": "stream",
     "text": [
      "50001\n",
      "51001\n",
      "52001\n",
      "53001\n",
      "54001\n",
      "55001\n",
      "56001\n",
      "57001\n",
      "58001\n",
      "59001\n",
      "60001\n",
      "61001\n",
      "62001\n",
      "63001\n",
      "64001\n",
      "65001\n",
      "66001\n",
      "67001\n",
      "68001\n",
      "69001\n",
      "70001\n",
      "71001\n",
      "72001\n",
      "73001\n",
      "74001\n",
      "75001\n",
      "76001\n",
      "77001\n",
      "78001\n",
      "79001\n",
      "80001\n",
      "81001\n",
      "82001\n",
      "83001\n",
      "84001\n",
      "85001\n",
      "86001\n",
      "87001\n",
      "88001\n",
      "89001\n",
      "90001\n",
      "91001\n",
      "92001\n",
      "93001\n",
      "94001\n",
      "95001\n",
      "96001\n",
      "97001\n",
      "98001\n",
      "99001\n"
     ]
    },
    {
     "name": "stderr",
     "output_type": "stream",
     "text": [
      "/home/elin91793/anaconda3/lib/python3.5/site-packages/ipykernel/__main__.py:3: SettingWithCopyWarning: \n",
      "A value is trying to be set on a copy of a slice from a DataFrame.\n",
      "Try using .loc[row_indexer,col_indexer] = value instead\n",
      "\n",
      "See the caveats in the documentation: http://pandas.pydata.org/pandas-docs/stable/indexing.html#indexing-view-versus-copy\n",
      "  app.launch_new_instance()\n"
     ]
    },
    {
     "name": "stdout",
     "output_type": "stream",
     "text": [
      "Extracting rows into  pickles/all-the-news_50000.pickle\n"
     ]
    }
   ],
   "source": [
    "df3 = get_all_news_df(True, NUM_ROWS_EXTRACT)"
   ]
  },
  {
   "cell_type": "code",
   "execution_count": 25,
   "metadata": {
    "collapsed": false
   },
   "outputs": [
    {
     "data": {
      "text/html": [
       "<div>\n",
       "<table border=\"1\" class=\"dataframe\">\n",
       "  <thead>\n",
       "    <tr style=\"text-align: right;\">\n",
       "      <th></th>\n",
       "      <th>title</th>\n",
       "      <th>content</th>\n",
       "    </tr>\n",
       "  </thead>\n",
       "  <tbody>\n",
       "    <tr>\n",
       "      <th>0</th>\n",
       "      <td>[House Republicans Fret About Winning Their He...</td>\n",
       "      <td>[Congressional Republicans have a new fear whe...</td>\n",
       "    </tr>\n",
       "    <tr>\n",
       "      <th>1</th>\n",
       "      <td>[Rift Between Officers and Residents a Killing...</td>\n",
       "      <td>[After the bullet shell get counted the blood ...</td>\n",
       "    </tr>\n",
       "    <tr>\n",
       "      <th>2</th>\n",
       "      <td>[Tyrus Wong Bambi Artist Thwarted by Racial Bi...</td>\n",
       "      <td>[When Walt Disney s Bambi opened in 1942 criti...</td>\n",
       "    </tr>\n",
       "    <tr>\n",
       "      <th>3</th>\n",
       "      <td>[Among Deaths in 2016 a Heavy Toll in Pop Musi...</td>\n",
       "      <td>[Death may be the great equalizer but it isn t...</td>\n",
       "    </tr>\n",
       "    <tr>\n",
       "      <th>4</th>\n",
       "      <td>[Kim Jong un Says North Korea Is Preparing to ...</td>\n",
       "      <td>[North Korea s leader Kim said on Sunday that ...</td>\n",
       "    </tr>\n",
       "  </tbody>\n",
       "</table>\n",
       "</div>"
      ],
      "text/plain": [
       "                                               title  \\\n",
       "0  [House Republicans Fret About Winning Their He...   \n",
       "1  [Rift Between Officers and Residents a Killing...   \n",
       "2  [Tyrus Wong Bambi Artist Thwarted by Racial Bi...   \n",
       "3  [Among Deaths in 2016 a Heavy Toll in Pop Musi...   \n",
       "4  [Kim Jong un Says North Korea Is Preparing to ...   \n",
       "\n",
       "                                             content  \n",
       "0  [Congressional Republicans have a new fear whe...  \n",
       "1  [After the bullet shell get counted the blood ...  \n",
       "2  [When Walt Disney s Bambi opened in 1942 criti...  \n",
       "3  [Death may be the great equalizer but it isn t...  \n",
       "4  [North Korea s leader Kim said on Sunday that ...  "
      ]
     },
     "execution_count": 25,
     "metadata": {},
     "output_type": "execute_result"
    }
   ],
   "source": [
    "df3.head()"
   ]
  },
  {
   "cell_type": "code",
   "execution_count": null,
   "metadata": {
    "collapsed": true
   },
   "outputs": [],
   "source": []
  }
 ],
 "metadata": {
  "kernelspec": {
   "display_name": "Python 3",
   "language": "python",
   "name": "python3"
  }
 },
 "nbformat": 4,
 "nbformat_minor": 2
}
